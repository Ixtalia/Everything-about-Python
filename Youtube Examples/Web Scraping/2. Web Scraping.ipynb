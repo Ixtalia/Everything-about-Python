{
 "cells": [
  {
   "attachments": {},
   "cell_type": "markdown",
   "metadata": {},
   "source": [
    "**Second Example:**\n",
    "\n",
    "Get data from a web page.\n",
    "This example use Selenium and code associated with the channel \"The PyCoach en Español\". "
   ]
  },
  {
   "cell_type": "code",
   "execution_count": 13,
   "metadata": {},
   "outputs": [],
   "source": [
    "from selenium import webdriver\n",
    "from selenium.webdriver.support.ui import Select\n",
    "from selenium.webdriver.common.by import By\n",
    "import pandas as pd\n"
   ]
  },
  {
   "cell_type": "code",
   "execution_count": 14,
   "metadata": {},
   "outputs": [],
   "source": [
    "website = 'https://www.adamchoi.co.uk/teamgoals/detailed'\n",
    "path = '/Users/PC/Downloads/chromedriver'"
   ]
  },
  {
   "cell_type": "code",
   "execution_count": 15,
   "metadata": {},
   "outputs": [
    {
     "name": "stderr",
     "output_type": "stream",
     "text": [
      "C:\\Users\\PC\\AppData\\Local\\Temp\\ipykernel_19344\\1494208203.py:1: DeprecationWarning: executable_path has been deprecated, please pass in a Service object\n",
      "  driver = webdriver.Chrome(path)\n"
     ]
    }
   ],
   "source": [
    "driver = webdriver.Chrome(path)\n",
    "driver.get(website)"
   ]
  },
  {
   "cell_type": "code",
   "execution_count": 16,
   "metadata": {},
   "outputs": [],
   "source": [
    "#all_matches_button = driver.find_element(\"xpath\",'//*[@id=\"page-wrapper\"]/div/home-away-selector/div/div/div/div/label[2]')\n",
    "#all_matches_button.click()"
   ]
  },
  {
   "cell_type": "code",
   "execution_count": 17,
   "metadata": {},
   "outputs": [],
   "source": [
    "all_matches_button = driver.find_element(By.XPATH,'//label[@analytics-event=\"All matches\"]')\n",
    "all_matches_button.click()"
   ]
  },
  {
   "cell_type": "code",
   "execution_count": 18,
   "metadata": {},
   "outputs": [],
   "source": [
    "dropdown = Select(driver.find_element(By.ID, 'country'))\n",
    "dropdown.select_by_visible_text('Spain')"
   ]
  },
  {
   "cell_type": "code",
   "execution_count": 19,
   "metadata": {},
   "outputs": [],
   "source": [
    "matches = driver.find_elements(By.TAG_NAME,'tr')"
   ]
  },
  {
   "cell_type": "code",
   "execution_count": 20,
   "metadata": {},
   "outputs": [
    {
     "name": "stdout",
     "output_type": "stream",
     "text": [
      "                                    partidos\n",
      "0       14-08-2022 Almeria 1 - 2 Real Madrid\n",
      "1             22-08-2022 Elche 1 - 1 Almeria\n",
      "2           27-08-2022 Almeria 2 - 1 Sevilla\n",
      "3        05-09-2022 Valladolid 1 - 0 Almeria\n",
      "4           12-09-2022 Almeria 0 - 1 Osasuna\n",
      "..                                       ...\n",
      "331     06-11-2022 Villarreal 0 - 2 Mallorca\n",
      "332      09-11-2022 Espanol 0 - 1 Villarreal\n",
      "333     31-12-2022 Villarreal 2 - 1 Valencia\n",
      "334  07-01-2023 Villarreal 2 - 1 Real Madrid\n",
      "335        13-01-2023 Celta ? - ? Villarreal\n",
      "\n",
      "[336 rows x 1 columns]\n"
     ]
    }
   ],
   "source": [
    "partidos = []\n",
    "for match in matches:\n",
    "    partidos.append(match.text)\n",
    "    \n",
    "driver.quit()\n",
    "\n",
    "df = pd.DataFrame({'partidos': partidos})\n",
    "print(df)\n",
    "df.to_csv('partidos.csv', index=False)\n"
   ]
  },
  {
   "cell_type": "markdown",
   "metadata": {},
   "source": []
  }
 ],
 "metadata": {
  "kernelspec": {
   "display_name": "Python 3",
   "language": "python",
   "name": "python3"
  },
  "language_info": {
   "codemirror_mode": {
    "name": "ipython",
    "version": 3
   },
   "file_extension": ".py",
   "mimetype": "text/x-python",
   "name": "python",
   "nbconvert_exporter": "python",
   "pygments_lexer": "ipython3",
   "version": "3.11.1 (tags/v3.11.1:a7a450f, Dec  6 2022, 19:58:39) [MSC v.1934 64 bit (AMD64)]"
  },
  "orig_nbformat": 4,
  "vscode": {
   "interpreter": {
    "hash": "5ffd7eb2cebf9ac436b5021ba01877e9cee6b03524e01bf8c8637d3e64111215"
   }
  }
 },
 "nbformat": 4,
 "nbformat_minor": 2
}
